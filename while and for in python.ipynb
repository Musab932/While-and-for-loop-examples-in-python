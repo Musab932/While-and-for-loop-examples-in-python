{
 "cells": [
  {
   "cell_type": "code",
   "execution_count": 4,
   "id": "5cf8087d-0e1f-4d2e-bc33-75f45ed88b95",
   "metadata": {},
   "outputs": [
    {
     "name": "stdout",
     "output_type": "stream",
     "text": [
      "Verifying user: Jasawail\n",
      "Verifying user: Candace\n",
      "Verifying user: Brian\n",
      "Verifying user: Alice\n",
      "\n",
      "The following users have been confirmed:\n",
      "Jasawail\n",
      "Candace\n",
      "Brian\n",
      "Alice\n"
     ]
    }
   ],
   "source": [
    " unconfirmed_users = ['alice', 'brian', 'candace','jasawail']\n",
    " confirmed_users = []\n",
    " while unconfirmed_users:\n",
    "     current_user = unconfirmed_users.pop()\n",
    "     print(f\"Verifying user: {current_user.title()}\")\n",
    "     confirmed_users.append(current_user)\n",
    "print(\"\\nThe following users have been confirmed:\")\n",
    "for confirmed_user in confirmed_users:\n",
    "     print(confirmed_user.title())"
   ]
  },
  {
   "cell_type": "code",
   "execution_count": 8,
   "id": "61461220-a4a5-431d-a61a-43ef3a21df51",
   "metadata": {},
   "outputs": [
    {
     "name": "stdout",
     "output_type": "stream",
     "text": [
      "['apple', 'banana', 'apple', 'stawbery', 'orange', 'apple']\n",
      "['banana', 'stawbery', 'orange']\n"
     ]
    }
   ],
   "source": [
    "friuts=['apple','banana','apple','stawbery','orange','apple']\n",
    "print(friuts)\n",
    "while 'apple' in friuts:\n",
    "    friuts.remove('apple')\n",
    "print(friuts)"
   ]
  },
  {
   "cell_type": "code",
   "execution_count": 26,
   "id": "99729d06-33ba-41f5-a0e4-4eb1b7bae24c",
   "metadata": {},
   "outputs": [
    {
     "name": "stdin",
     "output_type": "stream",
     "text": [
      "\n",
      "What is your name?  musab\n",
      "Which mountain would you like to climb someday?  hedio\n",
      "Would you like to let another person respond? (yes/ no)  no\n"
     ]
    },
    {
     "name": "stdout",
     "output_type": "stream",
     "text": [
      "\n",
      "--- Poll Results ---\n",
      "musab would like to climb hedio.\n"
     ]
    }
   ],
   "source": [
    "responses={}\n",
    "polling_active=True\n",
    "while polling_active:\n",
    "    name = input(\"\\nWhat is your name? \")\n",
    "    response = input(\"Which mountain would you like to climb someday? \")\n",
    "    responses[name]=response\n",
    "    repeat = input(\"Would you like to let another person respond? (yes/ no) \")\n",
    "    if repeat == 'no':\n",
    "        polling_active = False\n",
    "print(\"\\n--- Poll Results ---\")\n",
    "for name, response in responses.items():\n",
    "    print(f\"{name} would like to climb {response}.\")"
   ]
  },
  {
   "cell_type": "code",
   "execution_count": 42,
   "id": "c8fe4b15-1b27-4811-ae40-b101d96ecead",
   "metadata": {},
   "outputs": [
    {
     "name": "stdout",
     "output_type": "stream",
     "text": [
      "*****\n",
      "*****\n",
      "*****\n",
      "*****\n",
      "*****\n"
     ]
    }
   ],
   "source": [
    "for i in range(5):\n",
    "    for j in range(5):\n",
    "        print(\"*\",end='')\n",
    "    print()\n",
    "    "
   ]
  },
  {
   "cell_type": "code",
   "execution_count": 45,
   "id": "6aee2cd4-643d-4f7d-abc2-eede43fb142d",
   "metadata": {},
   "outputs": [
    {
     "name": "stdout",
     "output_type": "stream",
     "text": [
      "*****\n",
      "*****\n",
      "*****\n",
      "*****\n",
      "*****\n"
     ]
    }
   ],
   "source": [
    "i=0\n",
    "while i<5:\n",
    "    j=0\n",
    "    while j<5:\n",
    "        print(\"*\",end='')\n",
    "        j+=1\n",
    "    print()\n",
    "    i+=1"
   ]
  },
  {
   "cell_type": "code",
   "execution_count": 50,
   "id": "028e3cf1-14ad-446d-97a2-43ad17869af7",
   "metadata": {},
   "outputs": [
    {
     "name": "stdout",
     "output_type": "stream",
     "text": [
      "1\t2\t3\t4\t5\t\n",
      "2\t4\t6\t8\t10\t\n",
      "3\t6\t9\t12\t15\t\n",
      "4\t8\t12\t16\t20\t\n",
      "5\t10\t15\t20\t25\t\n"
     ]
    }
   ],
   "source": [
    "for i in range(1,6):\n",
    "    for j in range(1,6):\n",
    "        print(i*j,end='\\t')\n",
    "    print()"
   ]
  },
  {
   "cell_type": "code",
   "execution_count": 53,
   "id": "acc2082a-da5f-4f91-be6b-843d06f9b4d2",
   "metadata": {},
   "outputs": [
    {
     "name": "stdout",
     "output_type": "stream",
     "text": [
      "i=1,j=1\n",
      "i=1,j=2\n",
      "i=2,j=1\n",
      "i=2,j=2\n",
      "i=3,j=1\n",
      "i=3,j=2\n"
     ]
    }
   ],
   "source": [
    "i=1\n",
    "while i<=3:\n",
    "    j=1\n",
    "    while j <=2:\n",
    "        print(f\"i={i},j={j}\")\n",
    "        j+=1\n",
    "    i+=1"
   ]
  },
  {
   "cell_type": "code",
   "execution_count": 60,
   "id": "a5eb7264-02c7-4ab7-906d-d8cc6020e3f6",
   "metadata": {},
   "outputs": [
    {
     "name": "stdout",
     "output_type": "stream",
     "text": [
      "*\n",
      "**\n",
      "***\n",
      "****\n",
      "*****\n"
     ]
    }
   ],
   "source": [
    "n=5\n",
    "for i in range(1,n+1):\n",
    "    for j in range(1,i+1):\n",
    "        print(\"*\",end='')\n",
    "    print()"
   ]
  },
  {
   "cell_type": "code",
   "execution_count": 75,
   "id": "291c579f-dc2a-42fb-9365-aa8f7e18ffec",
   "metadata": {},
   "outputs": [
    {
     "name": "stdout",
     "output_type": "stream",
     "text": [
      "1 2 3 \n",
      "4 5 6 \n",
      "7 8 9 \n"
     ]
    }
   ],
   "source": [
    "grid = [\n",
    " [1, 2, 3],\n",
    " [4, 5, 6],\n",
    " [7, 8, 9]\n",
    " ]\n",
    "for row in grid:\n",
    "   for cell in row:\n",
    "        print(cell, end=' ')  # Print the cell value with space\n",
    "   print()  # New line after each row"
   ]
  },
  {
   "cell_type": "code",
   "execution_count": 76,
   "id": "b569ed26-5a40-43bc-9cbf-594a8615d32b",
   "metadata": {},
   "outputs": [
    {
     "name": "stdout",
     "output_type": "stream",
     "text": [
      "You just earned 5 points!\n"
     ]
    }
   ],
   "source": [
    " alien_0 = {'color': 'green', 'points': 5}\n",
    " new_points = alien_0['points']\n",
    " print(f\"You just earned {new_points} points!\")"
   ]
  },
  {
   "cell_type": "code",
   "execution_count": 81,
   "id": "e8c5cb55-9ce4-40ae-b9e1-3fc5149daf7c",
   "metadata": {},
   "outputs": [
    {
     "name": "stdout",
     "output_type": "stream",
     "text": [
      "{'colour': 'yellow', 'point': '5'}\n",
      "{'colour': 'pink', 'point': '5', 'ypos': 7}\n",
      "your colour is pink\n"
     ]
    }
   ],
   "source": [
    "mus={'colour':'yellow','point':'5'}\n",
    "print(mus\n",
    "     )\n",
    "mus['colour']='pink'\n",
    "mus['ypos']=7\n",
    "print(mus)\n",
    "print(f\"your colour is {mus['colour']}\")"
   ]
  },
  {
   "cell_type": "code",
   "execution_count": null,
   "id": "1925cc8d-ac9a-413c-81d4-d9272bc85837",
   "metadata": {},
   "outputs": [],
   "source": []
  }
 ],
 "metadata": {
  "kernelspec": {
   "display_name": "Python 3 (ipykernel)",
   "language": "python",
   "name": "python3"
  },
  "language_info": {
   "codemirror_mode": {
    "name": "ipython",
    "version": 3
   },
   "file_extension": ".py",
   "mimetype": "text/x-python",
   "name": "python",
   "nbconvert_exporter": "python",
   "pygments_lexer": "ipython3",
   "version": "3.12.4"
  }
 },
 "nbformat": 4,
 "nbformat_minor": 5
}
